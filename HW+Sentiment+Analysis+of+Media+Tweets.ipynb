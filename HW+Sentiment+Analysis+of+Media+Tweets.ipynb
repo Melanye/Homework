{
 "cells": [
  {
   "cell_type": "code",
   "execution_count": 42,
   "metadata": {
    "collapsed": true
   },
   "outputs": [],
   "source": [
    "import pandas as pd\n",
    "import json\n",
    "import tweepy\n",
    "import matplotlib.pyplot as plt\n",
    "from vaderSentiment.vaderSentiment import SentimentIntensityAnalyzer\n",
    "analyzer = SentimentIntensityAnalyzer()"
   ]
  },
  {
   "cell_type": "code",
   "execution_count": 43,
   "metadata": {
    "collapsed": true
   },
   "outputs": [],
   "source": [
    "consumer_key = \"1sm7hTMjPTdXu2mFfeWJsikf0\"\n",
    "consumer_secret = \"aKhmx7c1drEDpYdccAHY7hHAI0noK0smHGvY9DsuYSRx9HbvZI\"\n",
    "access_token = \"87224280-ckwf0MKGRapPC7VeofaAbt8BGVhwAdqXivI9BEDN0\"\n",
    "access_token_secret = \"NbC8SeBhOTvnWRThnbfRtdja05Wqc5rBonyX9LAzxr5Am\"\n"
   ]
  },
  {
   "cell_type": "code",
   "execution_count": 44,
   "metadata": {
    "collapsed": true
   },
   "outputs": [],
   "source": [
    "auth = tweepy.OAuthHandler(consumer_key, consumer_secret)\n",
    "auth.set_access_token(access_token, access_token_secret)\n",
    "api = tweepy.API(auth, parser=tweepy.parsers.JSONParser())"
   ]
  },
  {
   "cell_type": "code",
   "execution_count": 45,
   "metadata": {
    "collapsed": true
   },
   "outputs": [],
   "source": [
    "target_terms = (\"@CNN\", \"@BBCWORLD\", \"@CBSNEWS\", \"@FOXNEWS\", \"@NYTIMES\")"
   ]
  },
  {
   "cell_type": "code",
   "execution_count": 46,
   "metadata": {
    "collapsed": true
   },
   "outputs": [],
   "source": [
    "compound_list = []\n",
    "positive_list = []\n",
    "negative_list = []\n",
    "neutral_list = []"
   ]
  },
  {
   "cell_type": "code",
   "execution_count": 47,
   "metadata": {},
   "outputs": [],
   "source": [
    "for x in range(5):\n",
    "    for user in target_terms:\n",
    "        public_tweets = api.user_timeline(target_terms, count=100)\n",
    "\n",
    "        \n",
    "        for tweet in public_tweets:\n",
    "            compound = analyzer.polarity_scores(tweet[\"text\"])[\"compound\"]\n",
    "            positive = analyzer.polarity_scores(tweet[\"text\"])[\"pos\"]\n",
    "            negative = analyzer.polarity_scores(tweet[\"text\"])[\"neg\"]\n",
    "            neutral = analyzer.polarity_scores(tweet[\"text\"])[\"neu\"]\n",
    "          \n",
    "            \n",
    "            compound_list.append(compound)\n",
    "            positive_list.append(positive)\n",
    "            negative_list.append(negative)\n",
    "            neutral_list.append(neutral)\n"
   ]
  },
  {
   "cell_type": "code",
   "execution_count": 48,
   "metadata": {},
   "outputs": [],
   "source": [
    "sentiment = {\"User\": target_terms,\n",
    "             \"Compound\": np.mean(compound_list),\n",
    "             \"Positive\": np.mean(positive_list),\n",
    "             \"Neutral\": np.mean(negative_list),\n",
    "             \"Negative\": np.mean(neutral_list),\n",
    "             \"Tweet Count\": len(compound_list)}\n"
   ]
  },
  {
   "cell_type": "code",
   "execution_count": 49,
   "metadata": {},
   "outputs": [
    {
     "name": "stdout",
     "output_type": "stream",
     "text": [
      "{'User': ('@CNN', '@BBCWORLD', '@CBSNEWS', '@FOXNEWS', '@NYTIMES'), 'Compound': 0.043953608247422685, 'Positive': 0.10310309278350514, 'Neutral': 0.070783505154639159, 'Negative': 0.82611340206185557, 'Tweet Count': 2425}\n",
      "\n"
     ]
    }
   ],
   "source": [
    "print(sentiment)\n",
    "   \n",
    "print(\"\")\n"
   ]
  },
  {
   "cell_type": "code",
   "execution_count": 40,
   "metadata": {},
   "outputs": [
    {
     "data": {
      "text/plain": [
       "{'Compound': 0.043953608247422685,\n",
       " 'Negative': 0.82611340206185557,\n",
       " 'Neutral': 0.070783505154639159,\n",
       " 'Positive': 0.10310309278350514,\n",
       " 'Tweet Count': 2425,\n",
       " 'User': ('@CNN', '@BBCWORLD', '@CBSNEWS', '@FOXNEWS', '@NYTIMES')}"
      ]
     },
     "execution_count": 40,
     "metadata": {},
     "output_type": "execute_result"
    }
   ],
   "source": [
    "sentiment"
   ]
  },
  {
   "cell_type": "code",
   "execution_count": 50,
   "metadata": {},
   "outputs": [
    {
     "data": {
      "image/png": "[encoded data removed]",
      "text/plain": [
       "<matplotlib.figure.Figure at 0x20b312eb898>"
      ]
     },
     "metadata": {},
     "output_type": "display_data"
    }
   ],
   "source": [
    "plt.scatter(positive_list, negative_list, neutral_list, compound_list)\n",
    "plt.xlabel(\"Tweets Ago\")\n",
    "plt.ylabel(\"Tweet Polarity\")\n",
    "plt.title(\"Sentiment Analysis of Media Tweets (01/28/18)\")\n",
    "plt.show()"
   ]
  },
  {
   "cell_type": "code",
   "execution_count": null,
   "metadata": {
    "collapsed": true
   },
   "outputs": [],
   "source": []
  }
 ],
 "metadata": {
  "kernelspec": {
   "display_name": "Python 3",
   "language": "python",
   "name": "python3"
  },
  "language_info": {
   "codemirror_mode": {
    "name": "ipython",
    "version": 3
   },
   "file_extension": ".py",
   "mimetype": "text/x-python",
   "name": "python",
   "nbconvert_exporter": "python",
   "pygments_lexer": "ipython3",
   "version": "3.6.3"
  }
 },
 "nbformat": 4,
 "nbformat_minor": 2
}
