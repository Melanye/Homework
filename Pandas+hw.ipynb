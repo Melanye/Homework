{
 "cells": [
  {
   "cell_type": "code",
   "execution_count": 8,
   "metadata": {
    "collapsed": true
   },
   "outputs": [],
   "source": [
    "import pandas as pd\n",
    "import numpy as np"
   ]
  },
  {
   "cell_type": "code",
   "execution_count": 9,
   "metadata": {},
   "outputs": [
    {
     "ename": "ValueError",
     "evalue": "Expected object or value",
     "output_type": "error",
     "traceback": [
      "\u001b[1;31m---------------------------------------------------------------------------\u001b[0m",
      "\u001b[1;31mValueError\u001b[0m                                Traceback (most recent call last)",
      "\u001b[1;32m<ipython-input-9-5b7d24cdcd72>\u001b[0m in \u001b[0;36m<module>\u001b[1;34m()\u001b[0m\n\u001b[1;32m----> 1\u001b[1;33m \u001b[0mHofP\u001b[0m\u001b[1;33m=\u001b[0m\u001b[0mpd\u001b[0m\u001b[1;33m.\u001b[0m\u001b[0mread_json\u001b[0m\u001b[1;33m(\u001b[0m\u001b[1;34m'C:/Users/melan/Desktop/DATA ANALYTICS CLASS/PANDAS/HeroesOfPymoli_Example/purchase_data.json'\u001b[0m\u001b[1;33m)\u001b[0m\u001b[1;33m\u001b[0m\u001b[0m\n\u001b[0m\u001b[0;32m      2\u001b[0m \u001b[0mHofP\u001b[0m\u001b[1;33m.\u001b[0m\u001b[0mhead\u001b[0m\u001b[1;33m(\u001b[0m\u001b[1;36m10\u001b[0m\u001b[1;33m)\u001b[0m\u001b[1;33m\u001b[0m\u001b[0m\n",
      "\u001b[1;32m~\\Anaconda3\\lib\\site-packages\\pandas\\io\\json\\json.py\u001b[0m in \u001b[0;36mread_json\u001b[1;34m(path_or_buf, orient, typ, dtype, convert_axes, convert_dates, keep_default_dates, numpy, precise_float, date_unit, encoding, lines)\u001b[0m\n\u001b[0;32m    352\u001b[0m         obj = FrameParser(json, orient, dtype, convert_axes, convert_dates,\n\u001b[0;32m    353\u001b[0m                           \u001b[0mkeep_default_dates\u001b[0m\u001b[1;33m,\u001b[0m \u001b[0mnumpy\u001b[0m\u001b[1;33m,\u001b[0m \u001b[0mprecise_float\u001b[0m\u001b[1;33m,\u001b[0m\u001b[1;33m\u001b[0m\u001b[0m\n\u001b[1;32m--> 354\u001b[1;33m                           date_unit).parse()\n\u001b[0m\u001b[0;32m    355\u001b[0m \u001b[1;33m\u001b[0m\u001b[0m\n\u001b[0;32m    356\u001b[0m     \u001b[1;32mif\u001b[0m \u001b[0mtyp\u001b[0m \u001b[1;33m==\u001b[0m \u001b[1;34m'series'\u001b[0m \u001b[1;32mor\u001b[0m \u001b[0mobj\u001b[0m \u001b[1;32mis\u001b[0m \u001b[1;32mNone\u001b[0m\u001b[1;33m:\u001b[0m\u001b[1;33m\u001b[0m\u001b[0m\n",
      "\u001b[1;32m~\\Anaconda3\\lib\\site-packages\\pandas\\io\\json\\json.py\u001b[0m in \u001b[0;36mparse\u001b[1;34m(self)\u001b[0m\n\u001b[0;32m    420\u001b[0m \u001b[1;33m\u001b[0m\u001b[0m\n\u001b[0;32m    421\u001b[0m         \u001b[1;32melse\u001b[0m\u001b[1;33m:\u001b[0m\u001b[1;33m\u001b[0m\u001b[0m\n\u001b[1;32m--> 422\u001b[1;33m             \u001b[0mself\u001b[0m\u001b[1;33m.\u001b[0m\u001b[0m_parse_no_numpy\u001b[0m\u001b[1;33m(\u001b[0m\u001b[1;33m)\u001b[0m\u001b[1;33m\u001b[0m\u001b[0m\n\u001b[0m\u001b[0;32m    423\u001b[0m \u001b[1;33m\u001b[0m\u001b[0m\n\u001b[0;32m    424\u001b[0m         \u001b[1;32mif\u001b[0m \u001b[0mself\u001b[0m\u001b[1;33m.\u001b[0m\u001b[0mobj\u001b[0m \u001b[1;32mis\u001b[0m \u001b[1;32mNone\u001b[0m\u001b[1;33m:\u001b[0m\u001b[1;33m\u001b[0m\u001b[0m\n",
      "\u001b[1;32m~\\Anaconda3\\lib\\site-packages\\pandas\\io\\json\\json.py\u001b[0m in \u001b[0;36m_parse_no_numpy\u001b[1;34m(self)\u001b[0m\n\u001b[0;32m    637\u001b[0m         \u001b[1;32mif\u001b[0m \u001b[0morient\u001b[0m \u001b[1;33m==\u001b[0m \u001b[1;34m\"columns\"\u001b[0m\u001b[1;33m:\u001b[0m\u001b[1;33m\u001b[0m\u001b[0m\n\u001b[0;32m    638\u001b[0m             self.obj = DataFrame(\n\u001b[1;32m--> 639\u001b[1;33m                 loads(json, precise_float=self.precise_float), dtype=None)\n\u001b[0m\u001b[0;32m    640\u001b[0m         \u001b[1;32melif\u001b[0m \u001b[0morient\u001b[0m \u001b[1;33m==\u001b[0m \u001b[1;34m\"split\"\u001b[0m\u001b[1;33m:\u001b[0m\u001b[1;33m\u001b[0m\u001b[0m\n\u001b[0;32m    641\u001b[0m             decoded = dict((str(k), v)\n",
      "\u001b[1;31mValueError\u001b[0m: Expected object or value"
     ]
    }
   ],
   "source": [
    "HofP=pd.read_json('C:/Users/melan/Desktop/DATA ANALYTICS CLASS/PANDAS/HeroesOfPymoli_Example/purchase_data.json')\n",
    "HofP.head(10)"
   ]
  },
  {
   "cell_type": "code",
   "execution_count": null,
   "metadata": {
    "collapsed": true
   },
   "outputs": [],
   "source": [
    "<style> .dataframe thead tr:only-child th { text-align: right; } "
   ]
  },
  {
   "cell_type": "code",
   "execution_count": null,
   "metadata": {
    "collapsed": true
   },
   "outputs": [],
   "source": [
    ".dataframe thead th {\n",
    "    text-align: left;\n",
    "}\n",
    "\n",
    ".dataframe tbody tr th {\n",
    "    vertical-align: top;\n",
    "}"
   ]
  },
  {
   "cell_type": "code",
   "execution_count": null,
   "metadata": {
    "collapsed": true
   },
   "outputs": [],
   "source": [
    "<style>"
   ]
  },
  {
   "cell_type": "code",
   "execution_count": null,
   "metadata": {
    "collapsed": true
   },
   "outputs": [],
   "source": [
    "pd.DataFrame(data={'Total Players': [HofP['SN'].nunique()]})"
   ]
  },
  {
   "cell_type": "code",
   "execution_count": null,
   "metadata": {
    "collapsed": true
   },
   "outputs": [],
   "source": [
    "<style> .dataframe thead tr:only-child th { text-align: right; } "
   ]
  },
  {
   "cell_type": "code",
   "execution_count": null,
   "metadata": {
    "collapsed": true
   },
   "outputs": [],
   "source": [
    ".dataframe thead th {\n",
    "    text-align: left;\n",
    "}\n",
    "\n",
    ".dataframe tbody tr th {\n",
    "    vertical-align: top;\n",
    "}"
   ]
  },
  {
   "cell_type": "code",
   "execution_count": null,
   "metadata": {
    "collapsed": true
   },
   "outputs": [],
   "source": [
    "</style> "
   ]
  },
  {
   "cell_type": "code",
   "execution_count": null,
   "metadata": {
    "collapsed": true
   },
   "outputs": [],
   "source": [
    "keys =['Number of Unique Items','Average Price','Number of Purchases','Total Revenue']\n",
    "unique_items= HofP['Item ID'].nunique()                  \n",
    "ave_price = HofP['Price'].mean()\n",
    "total_purchase = HofP['Item ID'].count()\n",
    "total_revenue = HofP['Price'].sum()\n",
    "purchase_ana = {'Number of Unique Items': [unique_items],'Average Price': [ave_price],\n",
    "                'Number of Purchases': [total_purchase],'Total Revenue': [total_revenue]}\n",
    "purchase_ana_df = pd.DataFrame(data=purchase_ana, columns=keys)\n",
    "purchase_ana_df['Average Price'] = purchase_ana_df['Average Price'].map('${:,.2f}'.format)\n",
    "purchase_ana_df['Total Revenue'] = purchase_ana_df['Total Revenue'].map('${:,.2f}'.format)\n",
    "purchase_ana_df"
   ]
  },
  {
   "cell_type": "code",
   "execution_count": null,
   "metadata": {
    "collapsed": true
   },
   "outputs": [],
   "source": [
    "<style> .dataframe thead tr:only-child th { text-align: right; } "
   ]
  },
  {
   "cell_type": "code",
   "execution_count": null,
   "metadata": {
    "collapsed": true
   },
   "outputs": [],
   "source": [
    ".dataframe thead th {\n",
    "    text-align: left;\n",
    "}"
   ]
  },
  {
   "cell_type": "code",
   "execution_count": null,
   "metadata": {
    "collapsed": true
   },
   "outputs": [],
   "source": [
    ".dataframe tbody tr th {\n",
    "    vertical-align: top;\n",
    "}"
   ]
  },
  {
   "cell_type": "code",
   "execution_count": null,
   "metadata": {
    "collapsed": true
   },
   "outputs": [],
   "source": [
    "</style> "
   ]
  },
  {
   "cell_type": "code",
   "execution_count": null,
   "metadata": {
    "collapsed": true
   },
   "outputs": [],
   "source": [
    "cols=['Percentage of Players',' Total Count ']\n",
    "genders=[HofP['Gender'].unique()]\n",
    "gender_grp_counts=pd.DataFrame(HofP.groupby(HofP['Gender'])['SN'].nunique(), \n",
    "                               index=genders)\n",
    "per_plyr=pd.DataFrame(gender_grp_counts['SN']/gender_grp_counts['SN'].sum()*100)\n",
    "res=per_plyr.set_index(genders).join(gender_grp_counts.set_index(genders),\n",
    "                                                     lsuffix='0', rsuffix='1')\n",
    "res['SN0'] = res['SN0'].map('{:,.2f}'.format)\n",
    "res.rename(columns={'SN0':cols[0],'SN1':cols[1]})"
   ]
  },
  {
   "cell_type": "code",
   "execution_count": null,
   "metadata": {
    "collapsed": true
   },
   "outputs": [],
   "source": [
    "<style> .dataframe thead tr:only-child th { text-align: right; } "
   ]
  },
  {
   "cell_type": "code",
   "execution_count": null,
   "metadata": {
    "collapsed": true
   },
   "outputs": [],
   "source": [
    ".dataframe thead th {\n",
    "    text-align: left;\n",
    "}"
   ]
  },
  {
   "cell_type": "code",
   "execution_count": null,
   "metadata": {
    "collapsed": true
   },
   "outputs": [],
   "source": [
    ".dataframe tbody tr th {\n",
    "    vertical-align: top;\n",
    "}"
   ]
  },
  {
   "cell_type": "code",
   "execution_count": null,
   "metadata": {
    "collapsed": true
   },
   "outputs": [],
   "source": [
    "</style> "
   ]
  },
  {
   "cell_type": "code",
   "execution_count": null,
   "metadata": {
    "collapsed": true
   },
   "outputs": [],
   "source": [
    "HofP['Total Purchase Value']=HofP['Price']\n",
    "HofP['Normalized Totals']=pd.DataFrame(HofP.groupby(['Gender'])['Price']\n",
    "                                       .apply(lambda x: (x) / x.count()))\n",
    "pur_ana=pd.DataFrame(HofP.groupby(['Gender']).agg({'Item ID': 'count',\n",
    "                                                    'Price': 'mean',\n",
    "                                                   'Normalized Totals':'sum',\n",
    "                                                     })).rename(columns={'Item ID':'Purchase Count',\n",
    "                                                                         'Price':'Average Price'})\n",
    "pur_ana['Total Purchase Value']= pur_ana['Purchase Count']*pur_ana['Average Price']\n",
    "pur_ana['Total Purchase Value']= pur_ana['Total Purchase Value'].map('${:,.2f}'.format)\n",
    "pur_ana['Normalized Totals']= pur_ana['Normalized Totals'].map('${:,.2f}'.format)\n",
    "pur_ana['Average Price']= pur_ana['Average Price'].map('${:,.2f}'.format)\n",
    "pur_ana"
   ]
  },
  {
   "cell_type": "code",
   "execution_count": null,
   "metadata": {
    "collapsed": true
   },
   "outputs": [],
   "source": [
    "<style> .dataframe thead tr:only-child th { text-align: right; } "
   ]
  },
  {
   "cell_type": "code",
   "execution_count": null,
   "metadata": {
    "collapsed": true
   },
   "outputs": [],
   "source": [
    ".dataframe thead th {\n",
    "    text-align: left;\n",
    "}"
   ]
  },
  {
   "cell_type": "code",
   "execution_count": null,
   "metadata": {
    "collapsed": true
   },
   "outputs": [],
   "source": [
    ".dataframe tbody tr th {\n",
    "    vertical-align: top;\n",
    "}"
   ]
  },
  {
   "cell_type": "code",
   "execution_count": null,
   "metadata": {
    "collapsed": true
   },
   "outputs": [],
   "source": [
    "</style>"
   ]
  },
  {
   "cell_type": "code",
   "execution_count": null,
   "metadata": {
    "collapsed": true
   },
   "outputs": [],
   "source": [
    "HofP1=HofP\n",
    "HofP1['Percent Count']=HofP['SN']\n",
    "HofP1['Total Count']=HofP['SN']\n",
    "\n",
    "def Pyr_count(SN):\n",
    "    return (len(SN.unique()))\n",
    "def Perc_Pyr(SN):\n",
    "    return (len(SN.unique())/HofP['SN'].nunique()*100)\n",
    "\n",
    "rlabel=[[ \"{0}-{1}\".format(i+1, i + 4) for i in range(HofP['Age'].min()-1,\n",
    "                                                       HofP['Age'].max()+4, 4) ]]\n",
    "rlabel[0][0]='<'+ rlabel[0][0][-2:]\n",
    "rlabel[0][len(rlabel[0])-1]=rlabel[0][len(rlabel[0])-1][:2]+'+'\n",
    "\n",
    "a=HofP1.groupby(pd.cut(HofP1['Age'] , \n",
    "                    bins=np.arange(HofP1['Age'].min()-1,\n",
    "                                   HofP1['Age'].max()+8,4),\n",
    "                      right=True)).agg({'Percent Count':Perc_Pyr,\n",
    "                                       'Total Count':Pyr_count}\n",
    "                                      )"
   ]
  },
  {
   "cell_type": "code",
   "execution_count": null,
   "metadata": {
    "collapsed": true
   },
   "outputs": [],
   "source": [
    "a.index=rlabel\n",
    "a.fillna(0, inplace=True)\n",
    "a['Total Count']=a['Total Count'].astype(int)\n",
    "a['Percent Count']=a['Percent Count'].map('{:,.2f}'.format)\n",
    "a"
   ]
  },
  {
   "cell_type": "code",
   "execution_count": null,
   "metadata": {
    "collapsed": true
   },
   "outputs": [],
   "source": [
    "<style> .dataframe thead tr:only-child th { text-align: right; } "
   ]
  },
  {
   "cell_type": "code",
   "execution_count": null,
   "metadata": {
    "collapsed": true
   },
   "outputs": [],
   "source": [
    ".dataframe thead th {\n",
    "    text-align: left;\n",
    "}"
   ]
  },
  {
   "cell_type": "code",
   "execution_count": null,
   "metadata": {
    "collapsed": true
   },
   "outputs": [],
   "source": [
    ".dataframe tbody tr th {\n",
    "    vertical-align: top;\n",
    "}"
   ]
  },
  {
   "cell_type": "code",
   "execution_count": null,
   "metadata": {
    "collapsed": true
   },
   "outputs": [],
   "source": [
    "</style> "
   ]
  },
  {
   "cell_type": "code",
   "execution_count": null,
   "metadata": {
    "collapsed": true
   },
   "outputs": [],
   "source": [
    "def norm(price):\n",
    "    price_list=list(price)\n",
    "    norm=map(lambda x: (x-np.min(price_list)) / (np.max(price_list)-np.min(price_list)),price)\n",
    "    norm=(sum(list(norm)))\n",
    "    return norm\n",
    "def total_pur_val(price):\n",
    "    return np.mean(price)*len(price)\n",
    "\n",
    "HofP1['Normalized Totals']=HofP1['Price']\n",
    "a=HofP1.groupby(pd.cut(HofP1['Age'] , \n",
    "                    bins=np.arange(HofP1['Age'].min()-1,\n",
    "                                   HofP1['Age'].max()+8,4),\n",
    "                      right=True)).agg({'Item ID':'count',\n",
    "                                       'Price':'mean',\n",
    "                                        'Total Purchase Value': total_pur_val,\n",
    "                                       'Normalized Totals':norm}\n",
    "                                      ).rename(columns={'Item ID':'Purchase Count',\n",
    "                                                       'Price':'Average Purchase Price'})\n",
    "\n",
    "a['Average Purchase Price']=a['Average Purchase Price'].map('${:,.2f}'.format)\n",
    "a['Total Purchase Value']=a['Total Purchase Value'].map('${:,.2f}'.format)\n",
    "a['Normalized Totals']=a['Normalized Totals'].map('${:,.2f}'.format)\n",
    "a.index=rlabel\n",
    "a.sort_index(0)"
   ]
  },
  {
   "cell_type": "code",
   "execution_count": null,
   "metadata": {
    "collapsed": true
   },
   "outputs": [],
   "source": [
    "<style> .dataframe thead tr:only-child th { text-align: right; } "
   ]
  },
  {
   "cell_type": "code",
   "execution_count": null,
   "metadata": {
    "collapsed": true
   },
   "outputs": [],
   "source": [
    ".dataframe thead th {\n",
    "    text-align: left;\n",
    "}"
   ]
  },
  {
   "cell_type": "code",
   "execution_count": null,
   "metadata": {
    "collapsed": true
   },
   "outputs": [],
   "source": [
    ".dataframe tbody tr th {\n",
    "    vertical-align: top;\n",
    "}"
   ]
  },
  {
   "cell_type": "code",
   "execution_count": null,
   "metadata": {
    "collapsed": true
   },
   "outputs": [],
   "source": [
    "</style>"
   ]
  },
  {
   "cell_type": "code",
   "execution_count": null,
   "metadata": {
    "collapsed": true
   },
   "outputs": [],
   "source": [
    "HofP1['Normalized Totals']=HofP1['Price']\n",
    "Tp_Spendr=pd.DataFrame(HofP1.groupby(['SN']).agg({'Item ID': 'count',\n",
    "                                                    'Price': 'mean',\n",
    "                                                   'Total Purchase Value':total_pur_val,\n",
    "                                                     })).rename(columns={'Item ID':'Purchase Count',\n",
    "                                                                         'Price':'Average Purchase Price'})\n",
    "Tp_Spendr['Average Purchase Price']=Tp_Spendr['Average Purchase Price'].map('${:,.2f}'.format)\n",
    "Tp_Spendr['Total Purchase Value']=Tp_Spendr['Total Purchase Value'].map('${:,.2f}'.format)\n",
    "Tp_Spendr=Tp_Spendr.sort_values(by=['Purchase Count'], ascending=False)\n",
    "Tp_Spendr.head(5)"
   ]
  },
  {
   "cell_type": "code",
   "execution_count": null,
   "metadata": {
    "collapsed": true
   },
   "outputs": [],
   "source": [
    "<style> .dataframe thead tr:only-child th { text-align: right; } \n",
    ".dataframe thead th {\n",
    "    text-align: left;\n",
    "}"
   ]
  },
  {
   "cell_type": "code",
   "execution_count": null,
   "metadata": {
    "collapsed": true
   },
   "outputs": [],
   "source": [
    ".dataframe tbody tr th {\n",
    "    vertical-align: top;\n",
    "}"
   ]
  },
  {
   "cell_type": "code",
   "execution_count": null,
   "metadata": {
    "collapsed": true
   },
   "outputs": [],
   "source": [
    "</style> "
   ]
  },
  {
   "cell_type": "code",
   "execution_count": null,
   "metadata": {
    "collapsed": true
   },
   "outputs": [],
   "source": [
    "Tp_items=pd.DataFrame(HofP1.groupby(['Item ID', 'Item Name']).agg({'Item ID': 'count',\n",
    "                                                    'Price': 'mean',\n",
    "                                                   'Total Purchase Value':total_pur_val,\n",
    "                                                     })).rename(columns={'Item ID':'Purchase Count',\n",
    "                                                                         'Price':'Item Price'})\n",
    "Tp_items['Item Price']=Tp_items['Item Price'].map('${:,.2f}'.format)\n",
    "Tp_items['Total Purchase Value']=Tp_items['Total Purchase Value'].map('${:,.2f}'.format)\n",
    "Tp_items=Tp_items.sort_values(by=['Purchase Count'], ascending=False)\n",
    "Tp_items.head(5)"
   ]
  },
  {
   "cell_type": "code",
   "execution_count": null,
   "metadata": {
    "collapsed": true
   },
   "outputs": [],
   "source": [
    "<style> .dataframe thead tr:only-child th { text-align: right; } "
   ]
  },
  {
   "cell_type": "code",
   "execution_count": null,
   "metadata": {
    "collapsed": true
   },
   "outputs": [],
   "source": [
    ".dataframe thead th {\n",
    "    text-align: left;\n",
    "}"
   ]
  },
  {
   "cell_type": "code",
   "execution_count": null,
   "metadata": {
    "collapsed": true
   },
   "outputs": [],
   "source": [
    ".dataframe tbody tr th {\n",
    "    vertical-align: top;\n",
    "}"
   ]
  },
  {
   "cell_type": "code",
   "execution_count": null,
   "metadata": {
    "collapsed": true
   },
   "outputs": [],
   "source": [
    "</style> "
   ]
  },
  {
   "cell_type": "code",
   "execution_count": null,
   "metadata": {
    "collapsed": true
   },
   "outputs": [],
   "source": [
    "Tp_items=Tp_items.sort_values(by=['Total Purchase Value'], ascending=False)\n",
    "Tp_items.head(5)"
   ]
  },
  {
   "cell_type": "code",
   "execution_count": null,
   "metadata": {
    "collapsed": true
   },
   "outputs": [],
   "source": [
    "<style> .dataframe thead tr:only-child th { text-align: right; } "
   ]
  },
  {
   "cell_type": "code",
   "execution_count": null,
   "metadata": {
    "collapsed": true
   },
   "outputs": [],
   "source": [
    ".dataframe thead th {\n",
    "    text-align: left;\n",
    "}"
   ]
  },
  {
   "cell_type": "code",
   "execution_count": null,
   "metadata": {
    "collapsed": true
   },
   "outputs": [],
   "source": [
    ".dataframe tbody tr th {\n",
    "    vertical-align: top;\n",
    "}"
   ]
  },
  {
   "cell_type": "code",
   "execution_count": null,
   "metadata": {
    "collapsed": true
   },
   "outputs": [],
   "source": [
    "</style>"
   ]
  }
 ],
 "metadata": {
  "kernelspec": {
   "display_name": "Python 3",
   "language": "python",
   "name": "python3"
  },
  "language_info": {
   "codemirror_mode": {
    "name": "ipython",
    "version": 3
   },
   "file_extension": ".py",
   "mimetype": "text/x-python",
   "name": "python",
   "nbconvert_exporter": "python",
   "pygments_lexer": "ipython3",
   "version": "3.6.3"
  }
 },
 "nbformat": 4,
 "nbformat_minor": 2
}
