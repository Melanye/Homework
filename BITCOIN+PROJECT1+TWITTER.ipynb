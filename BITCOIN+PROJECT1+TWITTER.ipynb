{
 "cells": [
  {
   "cell_type": "code",
   "execution_count": 335,
   "metadata": {
    "collapsed": true
   },
   "outputs": [],
   "source": [
    "import pandas as pd\n",
    "import tweepy\n",
    "import json\n",
    "import numpy as np\n",
    "import matplotlib.pyplot as plt\n",
    "from vaderSentiment.vaderSentiment import SentimentIntensityAnalyzer\n",
    "analyzer = SentimentIntensityAnalyzer()"
   ]
  },
  {
   "cell_type": "code",
   "execution_count": 336,
   "metadata": {
    "collapsed": true
   },
   "outputs": [],
   "source": [
    "consumer_key = \"1sm7hTMjPTdXu2mFfeWJsikf0\"\n",
    "consumer_secret = \"aKhmx7c1drEDpYdccAHY7hHAI0noK0smHGvY9DsuYSRx9HbvZI\"\n",
    "access_token = \"87224280-ckwf0MKGRapPC7VeofaAbt8BGVhwAdqXivI9BEDN0\"\n",
    "access_token_secret = \"NbC8SeBhOTvnWRThnbfRtdja05Wqc5rBonyX9LAzxr5Am\"\n"
   ]
  },
  {
   "cell_type": "code",
   "execution_count": 337,
   "metadata": {
    "collapsed": true
   },
   "outputs": [],
   "source": [
    "auth = tweepy.OAuthHandler(consumer_key, consumer_secret)\n",
    "auth.set_access_token(access_token, access_token_secret)\n",
    "api = tweepy.API(auth, parser=tweepy.parsers.JSONParser())"
   ]
  },
  {
   "cell_type": "code",
   "execution_count": 338,
   "metadata": {
    "collapsed": true
   },
   "outputs": [],
   "source": [
    "target_terms = (\"@CNN\", \"@BITCOIN\")"
   ]
  },
  {
   "cell_type": "code",
   "execution_count": 339,
   "metadata": {
    "collapsed": true
   },
   "outputs": [],
   "source": [
    "# min_tweet = 5\n",
    "# max_tweets = 100000\n",
    "# max_followers = 250000\n",
    "# max_following = 250000\n",
    "# lang = \"en\"\n"
   ]
  },
  {
   "cell_type": "code",
   "execution_count": 340,
   "metadata": {
    "collapsed": true
   },
   "outputs": [],
   "source": [
    "compound_list = []\n",
    "positive_list = []\n",
    "negative_list = []\n",
    "neutral_list = []"
   ]
  },
  {
   "cell_type": "code",
   "execution_count": 341,
   "metadata": {
    "collapsed": true
   },
   "outputs": [],
   "source": [
    "# oldest_tweet = \"\""
   ]
  },
  {
   "cell_type": "code",
   "execution_count": 342,
   "metadata": {},
   "outputs": [],
   "source": [
    "for x in range(5):\n",
    "    for user in target_terms:\n",
    "        public_tweets = api.user_timeline(target, count=100)\n",
    "        #print(public_tweets)\n",
    "        \n",
    "        for tweet in public_tweets:\n",
    "            compound = analyzer.polarity_scores(tweet[\"text\"])[\"compound\"]\n",
    "            positive = analyzer.polarity_scores(tweet[\"text\"])[\"pos\"]\n",
    "            negative = analyzer.polarity_scores(tweet[\"text\"])[\"neg\"]\n",
    "            neutral = analyzer.polarity_scores(tweet[\"text\"])[\"neu\"]\n",
    "#              if (tweet[\"user\"][\"followers_count\"] < max_followers and\n",
    "#                 tweet[\"user\"][\"statuses_count\"] > min_tweets and\n",
    "#                 tweet[\"user\"][\"statuses_count\"] < max_tweets and\n",
    "#                 tweet[\"user\"][\"friends_count\"] < max_following and\n",
    "#                 tweet[\"user\"][\"lang\"] == lang):\n",
    "                    \n",
    "#                 compound = analyzer.polarity_scores(tweet[\"text\"])[\"compound\"]\n",
    "#                 pos = analyzer.polarity_scores(tweet[\"text\"])[\"pos\"]\n",
    "#                 neu = analyzer.polarity_scores(tweet[\"text\"])[\"neu\"]\n",
    "#                 neg = analyzer.polarity_scores(tweet[\"text\"])[\"neg\"]\n",
    "\n",
    "            compound_list.append(compound)\n",
    "            positive_list.append(positive)\n",
    "            negative_list.append(negative)\n",
    "            neutral_list.append(neutral)\n",
    "\n",
    "                    \n"
   ]
  },
  {
   "cell_type": "code",
   "execution_count": 343,
   "metadata": {},
   "outputs": [],
   "source": [
    "sentiment = {\"User\": target,\n",
    "             \"Compound\": np.mean(compound_list),\n",
    "             \"Positive\": np.mean(positive_list),\n",
    "             \"Neutral\": np.mean(negative_list),\n",
    "             \"Negative\": np.mean(neutral_list),\n",
    "             \"Tweet Count\": len(compound_list)}\n"
   ]
  },
  {
   "cell_type": "code",
   "execution_count": 346,
   "metadata": {},
   "outputs": [
    {
     "name": "stdout",
     "output_type": "stream",
     "text": [
      "{'User': '@CNN', 'Compound': -0.042742700000000002, 'Positive': 0.052800000000000007, 'Neutral': 0.063700999999999994, 'Negative': 0.88347900000000001, 'Tweet Count': 1000}\n",
      "\n"
     ]
    }
   ],
   "source": [
    "print(sentiment)\n",
    "   \n",
    "print(\"\")\n"
   ]
  },
  {
   "cell_type": "code",
   "execution_count": 347,
   "metadata": {},
   "outputs": [
    {
     "data": {
      "text/plain": [
       "{'Compound': -0.042742700000000002,\n",
       " 'Negative': 0.88347900000000001,\n",
       " 'Neutral': 0.063700999999999994,\n",
       " 'Positive': 0.052800000000000007,\n",
       " 'Tweet Count': 1000,\n",
       " 'User': '@CNN'}"
      ]
     },
     "execution_count": 347,
     "metadata": {},
     "output_type": "execute_result"
    }
   ],
   "source": [
    "sentiment"
   ]
  },
  {
   "cell_type": "code",
   "execution_count": null,
   "metadata": {
    "collapsed": true
   },
   "outputs": [],
   "source": []
  }
 ],
 "metadata": {
  "kernelspec": {
   "display_name": "Python 3",
   "language": "python",
   "name": "python3"
  },
  "language_info": {
   "codemirror_mode": {
    "name": "ipython",
    "version": 3
   },
   "file_extension": ".py",
   "mimetype": "text/x-python",
   "name": "python",
   "nbconvert_exporter": "python",
   "pygments_lexer": "ipython3",
   "version": "3.6.3"
  }
 },
 "nbformat": 4,
 "nbformat_minor": 2
}
